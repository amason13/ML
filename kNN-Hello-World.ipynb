{
 "cells": [
  {
   "cell_type": "markdown",
   "metadata": {},
   "source": [
    "# kNN Hello-World\n",
    "In this sample notebook we provide Hello-world style tutorials to test 3 popular kNN options: \n",
    "* Annoy https://github.com/spotify/annoy\n",
    "* FAISS https://github.com/facebookresearch/faiss\n",
    "* HNSW https://github.com/nmslib/hnswlib\n",
    "\n",
    "A popular performance benchmark is documented here https://github.com/erikbern/ann-benchmarks.\n",
    "Developed on `conda_python3` kernel of an ml.c5.4xlarge SageMaker notebook instance with 20Gb ML volume.\n",
    "\n",
    "\n",
    "*Provided for demo purpose*"
   ]
  },
  {
   "cell_type": "code",
   "execution_count": null,
   "metadata": {},
   "outputs": [],
   "source": [
    "# install annoy\n",
    "! pip install --user annoy"
   ]
  },
  {
   "cell_type": "code",
   "execution_count": null,
   "metadata": {},
   "outputs": [],
   "source": [
    "# install faiss\n",
    "! conda install faiss-cpu -c pytorch -y"
   ]
  },
  {
   "cell_type": "code",
   "execution_count": null,
   "metadata": {},
   "outputs": [],
   "source": [
    "# install hnswlib\n",
    "! pip install --user git+https://github.com/nmslib/hnswlib#subdirectory=python_bindings"
   ]
  },
  {
   "cell_type": "markdown",
   "metadata": {},
   "source": [
    "## Bring data\n",
    "As support dataset we use Glove embeddings https://nlp.stanford.edu/projects/glove/. Citation:\n",
    "\n",
    "* Jeffrey Pennington, Richard Socher, and Christopher D. Manning. 2014. GloVe: Global Vectors for Word Representation.\n"
   ]
  },
  {
   "cell_type": "code",
   "execution_count": null,
   "metadata": {},
   "outputs": [],
   "source": [
    "%%time\n",
    "\n",
    "# We download Glove Common Crawl (840B tokens, 2.2M vocab, cased, 300d vectors, 2.03 GB download)\n",
    "! wget http://nlp.stanford.edu/data/glove.840B.300d.zip"
   ]
  },
  {
   "cell_type": "code",
   "execution_count": null,
   "metadata": {},
   "outputs": [],
   "source": [
    "%%time\n",
    "\n",
    "! unzip glove.840B.300d.zip"
   ]
  },
  {
   "cell_type": "code",
   "execution_count": 1,
   "metadata": {},
   "outputs": [
    {
     "name": "stdout",
     "output_type": "stream",
     "text": [
      "numpy: 1.14.3\n",
      "pandas: 0.24.2\n"
     ]
    }
   ],
   "source": [
    "import csv\n",
    "import json\n",
    "\n",
    "import numpy as np\n",
    "import pandas as pd\n",
    "\n",
    "print('numpy: ' + str(np.__version__))\n",
    "print('pandas: ' + str(pd.__version__))"
   ]
  },
  {
   "cell_type": "code",
   "execution_count": 2,
   "metadata": {},
   "outputs": [],
   "source": [
    "# read word embeddings\n",
    "embs = pd.read_csv(\n",
    "    'glove.840B.300d.txt',\n",
    "    sep=\" \",\n",
    "    index_col=0,\n",
    "    header=None,\n",
    "    quoting=csv.QUOTE_NONE)"
   ]
  },
  {
   "cell_type": "code",
   "execution_count": 3,
   "metadata": {},
   "outputs": [
    {
     "name": "stdout",
     "output_type": "stream",
     "text": [
      "(2196017, 300)\n"
     ]
    }
   ],
   "source": [
    "print(embs.shape)"
   ]
  },
  {
   "cell_type": "code",
   "execution_count": 4,
   "metadata": {},
   "outputs": [],
   "source": [
    "# create a index-word mapping so that kNN results are readable with actual words\n",
    "embmap = {i:w for i, w in enumerate(embs.index)}"
   ]
  },
  {
   "cell_type": "code",
   "execution_count": 5,
   "metadata": {},
   "outputs": [],
   "source": [
    "# save the id-word map to test search index later without opening the big embedding file\n",
    "with open('embmap.json', 'w') as json_file:\n",
    "    json.dump(embmap, json_file)"
   ]
  },
  {
   "cell_type": "markdown",
   "metadata": {},
   "source": [
    "# Annoy\n",
    "https://github.com/spotify/annoy"
   ]
  },
  {
   "cell_type": "code",
   "execution_count": 6,
   "metadata": {},
   "outputs": [],
   "source": [
    "# if can't be found, restart the kernel after the pip install annoy above)\n",
    "from annoy import AnnoyIndex"
   ]
  },
  {
   "cell_type": "markdown",
   "metadata": {},
   "source": [
    "### Build an index"
   ]
  },
  {
   "cell_type": "code",
   "execution_count": 7,
   "metadata": {},
   "outputs": [
    {
     "name": "stdout",
     "output_type": "stream",
     "text": [
      "CPU times: user 3min 14s, sys: 2.81 s, total: 3min 17s\n",
      "Wall time: 3min 17s\n"
     ]
    }
   ],
   "source": [
    "%%time\n",
    "\n",
    "dim = embs.shape[1]  # vector dimension\n",
    "\n",
    "t = AnnoyIndex(f=dim, metric='angular')\n",
    "\n",
    "for i, v in enumerate(embs.values):\n",
    "    t.add_item(i, v)\n",
    "\n",
    "t.build(10) # 10 trees\n",
    "t.save('test.ann')"
   ]
  },
  {
   "cell_type": "markdown",
   "metadata": {},
   "source": [
    "from annoy documentation (https://github.com/spotify/annoy#full-python-api): *\"More trees gives higher precision when querying. After calling `build`, no more items can be added.\"*"
   ]
  },
  {
   "cell_type": "markdown",
   "metadata": {},
   "source": [
    "### Search"
   ]
  },
  {
   "cell_type": "code",
   "execution_count": 8,
   "metadata": {},
   "outputs": [
    {
     "data": {
      "text/plain": [
       "True"
      ]
     },
     "execution_count": 8,
     "metadata": {},
     "output_type": "execute_result"
    }
   ],
   "source": [
    "# (optionnally) load index\n",
    "u = AnnoyIndex(f=300, metric='angular')\n",
    "u.load('test.ann')"
   ]
  },
  {
   "cell_type": "code",
   "execution_count": 9,
   "metadata": {},
   "outputs": [
    {
     "name": "stdout",
     "output_type": "stream",
     "text": [
      "CPU times: user 1.46 ms, sys: 0 ns, total: 1.46 ms\n",
      "Wall time: 851 µs\n"
     ]
    }
   ],
   "source": [
    "%%time\n",
    "\n",
    "# Search (542 is the ID of word \"software\")\n",
    "neighborsID = u.get_nns_by_item(i=542, n=10)"
   ]
  },
  {
   "cell_type": "code",
   "execution_count": 10,
   "metadata": {},
   "outputs": [
    {
     "name": "stdout",
     "output_type": "stream",
     "text": [
      "[542, 704, 4451, 3602, 9735, 12203, 10452, 13563, 894, 1322]\n",
      "['software', 'computer', 'desktop', 'computers', 'multimedia', 'scanner', 'utilities', 'downloadable', 'internet', 'mobile']\n"
     ]
    }
   ],
   "source": [
    "# words IDs and actual words\n",
    "print(neighborsID)\n",
    "print([embmap[i] for i in neighborsID])"
   ]
  },
  {
   "cell_type": "markdown",
   "metadata": {},
   "source": [
    "# FAISS\n",
    "https://github.com/facebookresearch/faiss"
   ]
  },
  {
   "cell_type": "code",
   "execution_count": 11,
   "metadata": {},
   "outputs": [],
   "source": [
    "import faiss"
   ]
  },
  {
   "cell_type": "markdown",
   "metadata": {},
   "source": [
    "### Build an index"
   ]
  },
  {
   "cell_type": "code",
   "execution_count": 12,
   "metadata": {},
   "outputs": [],
   "source": [
    "d = 300  # dim\n",
    "nlist = 500  # number of clusters searched - parameter to tune\n",
    "\n",
    "quantizer = faiss.IndexFlatL2(d) # build the index\n",
    "index = faiss.IndexIVFFlat(quantizer, d, nlist, faiss.METRIC_L2)"
   ]
  },
  {
   "cell_type": "code",
   "execution_count": 13,
   "metadata": {},
   "outputs": [
    {
     "name": "stdout",
     "output_type": "stream",
     "text": [
      "CPU times: user 34.9 s, sys: 3.11 s, total: 38 s\n",
      "Wall time: 9.91 s\n"
     ]
    }
   ],
   "source": [
    "%%time\n",
    "\n",
    "# faiss needs contiguous arrays\n",
    "x = np.ascontiguousarray(embs.values).astype('float32')\n",
    "\n",
    "index.train(x)\n",
    "index.add(x)"
   ]
  },
  {
   "cell_type": "code",
   "execution_count": 14,
   "metadata": {},
   "outputs": [],
   "source": [
    "# save index\n",
    "faiss.write_index(index, 'faissIVFFlat.index')"
   ]
  },
  {
   "cell_type": "markdown",
   "metadata": {},
   "source": [
    "### Search"
   ]
  },
  {
   "cell_type": "code",
   "execution_count": 15,
   "metadata": {},
   "outputs": [],
   "source": [
    "# (optionnally) load index\n",
    "index = faiss.read_index('faissIVFFlat.index')"
   ]
  },
  {
   "cell_type": "code",
   "execution_count": 16,
   "metadata": {},
   "outputs": [],
   "source": [
    "k = 10  # number of neighbors to return\n",
    "\n",
    "# search query needs to contiguous array of arrays\n",
    "# 542 is index for word \"software\"\n",
    "input_array = np.expand_dims(embs.iloc[542].values, axis=0)\n",
    "input_array = np.ascontiguousarray(input_array).astype('float32')"
   ]
  },
  {
   "cell_type": "code",
   "execution_count": 17,
   "metadata": {},
   "outputs": [
    {
     "name": "stdout",
     "output_type": "stream",
     "text": [
      "CPU times: user 181 ms, sys: 19.1 ms, total: 200 ms\n",
      "Wall time: 13.9 ms\n"
     ]
    }
   ],
   "source": [
    "%%time \n",
    "\n",
    "# search\n",
    "D, I = index.search(input_array, k)"
   ]
  },
  {
   "cell_type": "code",
   "execution_count": 18,
   "metadata": {},
   "outputs": [
    {
     "name": "stdout",
     "output_type": "stream",
     "text": [
      "[[  542   704  1513  1318  5084 13319  5413   899 18342  1410]]\n",
      "['software', 'computer', 'tool', 'tools', 'enterprise', 'automation', 'enables', 'application', 'web-based', 'applications']\n"
     ]
    }
   ],
   "source": [
    "# labels and actual words\n",
    "print(I)\n",
    "print([embmap[i] for i in I.tolist()[0]])"
   ]
  },
  {
   "cell_type": "markdown",
   "metadata": {},
   "source": [
    "## HNSWlib"
   ]
  },
  {
   "cell_type": "code",
   "execution_count": 19,
   "metadata": {},
   "outputs": [],
   "source": [
    "import hnswlib"
   ]
  },
  {
   "cell_type": "markdown",
   "metadata": {},
   "source": [
    "### Build an index\n",
    "* https://github.com/nmslib/hnswlib\n",
    "* https://github.com/nmslib/hnswlib/blob/master/ALGO_PARAMS.md"
   ]
  },
  {
   "cell_type": "code",
   "execution_count": 20,
   "metadata": {},
   "outputs": [],
   "source": [
    "dim = 300\n",
    "num_elements = len(embs)"
   ]
  },
  {
   "cell_type": "code",
   "execution_count": 21,
   "metadata": {},
   "outputs": [
    {
     "name": "stdout",
     "output_type": "stream",
     "text": [
      "CPU times: user 1h 4min 46s, sys: 35.2 s, total: 1h 5min 21s\n",
      "Wall time: 4min 12s\n"
     ]
    }
   ],
   "source": [
    "%%time\n",
    "\n",
    "# Declaring index\n",
    "p = hnswlib.Index(space='l2', dim=dim) # possible options are l2, cosine or ip\n",
    "\n",
    "# Initing index - the maximum number of elements should be known beforehand\n",
    "p.init_index(max_elements=num_elements, ef_construction=200, M=16)\n",
    "\n",
    "# Element insertion (can be called several times):\n",
    "p.add_items(embs.values, list(range(len(embs))))"
   ]
  },
  {
   "cell_type": "code",
   "execution_count": 22,
   "metadata": {},
   "outputs": [],
   "source": [
    "# persist\n",
    "p.save_index('hnswlib.bin')"
   ]
  },
  {
   "cell_type": "markdown",
   "metadata": {},
   "source": [
    "### Search"
   ]
  },
  {
   "cell_type": "code",
   "execution_count": 23,
   "metadata": {},
   "outputs": [],
   "source": [
    "# load index\n",
    "p = hnswlib.Index(space='l2', dim=dim)\n",
    "\n",
    "p.load_index('hnswlib.bin', max_elements=num_elements)"
   ]
  },
  {
   "cell_type": "code",
   "execution_count": 24,
   "metadata": {},
   "outputs": [],
   "source": [
    "# Controlling the recall by setting ef:\n",
    "p.set_ef(50) # ef should always be > k"
   ]
  },
  {
   "cell_type": "code",
   "execution_count": 25,
   "metadata": {},
   "outputs": [
    {
     "name": "stdout",
     "output_type": "stream",
     "text": [
      "CPU times: user 1.74 ms, sys: 0 ns, total: 1.74 ms\n",
      "Wall time: 1.25 ms\n"
     ]
    }
   ],
   "source": [
    "%%time\n",
    "\n",
    "# search\n",
    "labels, distances = p.knn_query(embs.iloc[542].values, k=10)"
   ]
  },
  {
   "cell_type": "code",
   "execution_count": 26,
   "metadata": {},
   "outputs": [
    {
     "name": "stdout",
     "output_type": "stream",
     "text": [
      "[[   542  38654   1265    704 137015  13218  19003   1513   1318   5084]]\n",
      "['software', 'softwares', 'Software', 'computer', 'sofware', 'freeware', 'shareware', 'tool', 'tools', 'enterprise']\n"
     ]
    }
   ],
   "source": [
    "# labels and actual words\n",
    "print(labels)\n",
    "print([embmap[i] for i in labels.tolist()[0]])"
   ]
  }
 ],
 "metadata": {
  "kernelspec": {
   "display_name": "conda_python3",
   "language": "python",
   "name": "conda_python3"
  },
  "language_info": {
   "codemirror_mode": {
    "name": "ipython",
    "version": 3
   },
   "file_extension": ".py",
   "mimetype": "text/x-python",
   "name": "python",
   "nbconvert_exporter": "python",
   "pygments_lexer": "ipython3",
   "version": "3.6.5"
  }
 },
 "nbformat": 4,
 "nbformat_minor": 2
}
