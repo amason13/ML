{
 "cells": [
  {
   "cell_type": "markdown",
   "metadata": {},
   "source": [
    "## DeepAR encoder-decoder neural net for timeseries forecasting\n",
    "* Code from https://aws.amazon.com/blogs/machine-learning/creating-neural-time-series-models-with-gluon-time-series/\n",
    "* DeepAR architecture paper https://arxiv.org/abs/1704.04110\n",
    "* gluonTS python neural timeseries toolkit\n",
    "  * documentation https://gluon-ts.mxnet.io/\n",
    "  * gluonTS paper https://arxiv.org/pdf/1906.05264.pdf"
   ]
  },
  {
   "cell_type": "code",
   "execution_count": null,
   "metadata": {},
   "outputs": [],
   "source": [
    "! pip install mxnet --pre\n",
    "! pip install gluonts --pre"
   ]
  },
  {
   "cell_type": "code",
   "execution_count": null,
   "metadata": {},
   "outputs": [],
   "source": [
    "from itertools import islice\n",
    "\n",
    "from gluonts.dataset.common import ListDataset\n",
    "from gluonts.evaluation.backtest import make_evaluation_predictions\n",
    "from gluonts.evaluation import Evaluator\n",
    "from gluonts.model.deepar import DeepAREstimator\n",
    "from gluonts.model.seasonal_naive import SeasonalNaivePredictor\n",
    "from gluonts.trainer import Trainer\n",
    "import matplotlib.pyplot as plt\n",
    "import pandas as pd"
   ]
  },
  {
   "cell_type": "code",
   "execution_count": null,
   "metadata": {},
   "outputs": [],
   "source": [
    "# get and plot some data\n",
    "url = \"https://raw.githubusercontent.com/numenta/NAB/master/data/realTweets/Twitter_volume_AMZN.csv\"\n",
    "df = pd.read_csv(url, header=0, index_col=0)\n",
    "\n",
    "df[:500].plot(figsize=(12, 5), linewidth=2)\n",
    "plt.grid()\n",
    "plt.legend([\"observations\"])\n",
    "plt.show()"
   ]
  },
  {
   "cell_type": "code",
   "execution_count": null,
   "metadata": {},
   "outputs": [],
   "source": [
    "# instantiate estimator\n",
    "estimator = DeepAREstimator(\n",
    "    freq=\"5min\", \n",
    "    context_length=48,\n",
    "    prediction_length=16,\n",
    "    trainer=Trainer(epochs=50, learning_rate=0.001))"
   ]
  },
  {
   "cell_type": "code",
   "execution_count": null,
   "metadata": {},
   "outputs": [],
   "source": [
    "# instantiate dataset\n",
    "training_data = ListDataset(\n",
    "    [{\"start\": df.index[0], \"target\": df.value[:\"2015-04-05 00:00:00\"]}],\n",
    "    freq = \"5min\")"
   ]
  },
  {
   "cell_type": "code",
   "execution_count": null,
   "metadata": {},
   "outputs": [],
   "source": [
    "# fit model\n",
    "predictor = estimator.train(training_data=training_data)"
   ]
  },
  {
   "cell_type": "code",
   "execution_count": null,
   "metadata": {},
   "outputs": [],
   "source": [
    "# evaluate\n",
    "\n",
    "test_data = ListDataset(\n",
    "    [\n",
    "        {\"start\": df.index[0], \"target\": df.value[:\"2015-04-10 03:00:00\"]},\n",
    "        {\"start\": df.index[0], \"target\": df.value[:\"2015-04-15 18:00:00\"]},\n",
    "        {\"start\": df.index[0], \"target\": df.value[:\"2015-04-20 12:00:00\"]}\n",
    "    ],\n",
    "    freq = \"5min\")\n",
    "\n",
    "\n",
    "def plot_forecasts(tss, forecasts, past_length, num_plots):\n",
    "    \n",
    "    for target, forecast in islice(zip(tss, forecasts), num_plots):\n",
    "        ax = target[-past_length:].plot(figsize=(12, 5), linewidth=2)\n",
    "        forecast.plot(color='g')\n",
    "        plt.grid(which='both')\n",
    "        plt.legend([\"observations\", \"median prediction\", \"90% confidence interval\", \"50% confidence interval\"])\n",
    "        plt.show()\n",
    "\n",
    "forecast_it, ts_it = make_evaluation_predictions(test_data, predictor=predictor, num_eval_samples=100)\n",
    "forecasts = list(forecast_it)\n",
    "tss = list(ts_it)\n",
    "plot_forecasts(tss, forecasts, past_length=250, num_plots=3)"
   ]
  },
  {
   "cell_type": "code",
   "execution_count": null,
   "metadata": {},
   "outputs": [],
   "source": [
    "evaluator = Evaluator(quantiles=[0.5], seasonality=2016)\n",
    "\n",
    "agg_metrics, item_metrics = evaluator(iter(tss), iter(forecasts), num_series=len(test_data))\n",
    "agg_metrics"
   ]
  },
  {
   "cell_type": "code",
   "execution_count": null,
   "metadata": {},
   "outputs": [],
   "source": [
    "# baseline vs seasonal naive model\n",
    "seasonal_predictor_1W = SeasonalNaivePredictor(freq=\"5min\", prediction_length=36, season_length=2016)\n",
    "\n",
    "forecast_it, ts_it = make_evaluation_predictions(test_data, predictor=seasonal_predictor_1W, num_eval_samples=100)\n",
    "forecasts = list(forecast_it)\n",
    "tss = list(ts_it)\n",
    "\n",
    "agg_metrics_seasonal, item_metrics_seasonal = evaluator(iter(tss), iter(forecasts), num_series=len(test_data))\n",
    "\n",
    "df_metrics = pd.DataFrame.join(\n",
    "    pd.DataFrame.from_dict(agg_metrics, orient='index').rename(columns={0: \"DeepAR\"}),\n",
    "    pd.DataFrame.from_dict(agg_metrics_seasonal, orient='index').rename(columns={0: \"Seasonal naive\"})\n",
    ")\n",
    "df_metrics.loc[[\"MASE\", \"sMAPE\", \"RMSE\"]]"
   ]
  },
  {
   "cell_type": "code",
   "execution_count": null,
   "metadata": {},
   "outputs": [],
   "source": []
  }
 ],
 "metadata": {
  "kernelspec": {
   "display_name": "conda_python3",
   "language": "python",
   "name": "conda_python3"
  },
  "language_info": {
   "codemirror_mode": {
    "name": "ipython",
    "version": 3
   },
   "file_extension": ".py",
   "mimetype": "text/x-python",
   "name": "python",
   "nbconvert_exporter": "python",
   "pygments_lexer": "ipython3",
   "version": "3.6.5"
  }
 },
 "nbformat": 4,
 "nbformat_minor": 2
}
